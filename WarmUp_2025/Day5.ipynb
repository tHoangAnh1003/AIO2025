{
 "cells": [
  {
   "cell_type": "markdown",
   "metadata": {},
   "source": [
    "Bài 1: Find primes"
   ]
  },
  {
   "cell_type": "code",
   "execution_count": 3,
   "metadata": {},
   "outputs": [],
   "source": [
    "import math\n",
    "\n",
    "def is_prime(n):\n",
    "    if n < 2:\n",
    "        return False\n",
    "    \n",
    "    for i in range(2, int(math.sqrt(n)) + 1):\n",
    "        if n % i == 0:\n",
    "            return False\n",
    "\n",
    "    return True\n",
    "\n",
    "\n",
    "def find_primes(N):\n",
    "    lst = []\n",
    "    \n",
    "    for i in range(2, N + 1):\n",
    "        if is_prime(i):\n",
    "            lst.append(i)\n",
    "    \n",
    "    return lst"
   ]
  },
  {
   "cell_type": "code",
   "execution_count": 4,
   "metadata": {},
   "outputs": [
    {
     "name": "stdout",
     "output_type": "stream",
     "text": [
      "[2, 3, 5, 7, 11, 13]\n"
     ]
    }
   ],
   "source": [
    "N = int(input(\"Nhập N: \"))\n",
    "result = find_primes(N)\n",
    "print(result)"
   ]
  },
  {
   "cell_type": "markdown",
   "metadata": {},
   "source": [
    "Bài 2: Perfect Number"
   ]
  },
  {
   "cell_type": "code",
   "execution_count": 7,
   "metadata": {},
   "outputs": [],
   "source": [
    "def perfect_number(n):\n",
    "    sum_divisors = 1\n",
    "\n",
    "    for i in range(2, int(math.sqrt(n)) + 1):\n",
    "        if n % i == 0:\n",
    "            sum_divisors += i\n",
    "            if i != n // i:\n",
    "                sum_divisors += n // i\n",
    "    \n",
    "    return sum_divisors == n\n",
    "\n",
    "\n",
    "def sum_perfect_numbers(N):\n",
    "    sum_numbers = 0\n",
    "    lst_perfect_numbers = []\n",
    "\n",
    "    for i in range(2, N):\n",
    "        if perfect_number(i):\n",
    "            sum_numbers += i\n",
    "            lst_perfect_numbers.append(i)\n",
    "\n",
    "    return sum_numbers, lst_perfect_numbers\n"
   ]
  },
  {
   "cell_type": "code",
   "execution_count": 6,
   "metadata": {},
   "outputs": [
    {
     "name": "stdout",
     "output_type": "stream",
     "text": [
      "(34, (6, 28))\n"
     ]
    }
   ],
   "source": [
    "N = int(input(\"Nhập N: \"))\n",
    "result = sum_perfect_numbers(N)\n",
    "print(result)"
   ]
  }
 ],
 "metadata": {
  "kernelspec": {
   "display_name": "Python 3",
   "language": "python",
   "name": "python3"
  },
  "language_info": {
   "codemirror_mode": {
    "name": "ipython",
    "version": 3
   },
   "file_extension": ".py",
   "mimetype": "text/x-python",
   "name": "python",
   "nbconvert_exporter": "python",
   "pygments_lexer": "ipython3",
   "version": "3.12.4"
  }
 },
 "nbformat": 4,
 "nbformat_minor": 2
}
