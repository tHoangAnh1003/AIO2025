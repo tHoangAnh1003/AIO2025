{
 "cells": [
  {
   "cell_type": "markdown",
   "metadata": {},
   "source": [
    "Bài 1: Phần tử trùng lặp"
   ]
  },
  {
   "cell_type": "code",
   "execution_count": 1,
   "metadata": {},
   "outputs": [],
   "source": [
    "from collections import defaultdict\n",
    "from collections import Counter"
   ]
  },
  {
   "cell_type": "code",
   "execution_count": 2,
   "metadata": {},
   "outputs": [],
   "source": [
    "def containsDuplicate1(nums):\n",
    "    dict_nums = dict(Counter(nums))\n",
    "    \n",
    "    for keys, values in dict_nums.items():\n",
    "        if values != 1:\n",
    "            return False\n",
    "    \n",
    "    return True"
   ]
  },
  {
   "cell_type": "code",
   "execution_count": 3,
   "metadata": {},
   "outputs": [],
   "source": [
    "def containsDuplicate2(nums):\n",
    "    set_nums = set(nums)\n",
    "\n",
    "    return len(nums) == len(set_nums)"
   ]
  },
  {
   "cell_type": "code",
   "execution_count": 4,
   "metadata": {},
   "outputs": [],
   "source": [
    "nums1 = [1, 2, 3, 1]\n",
    "output1, output2 = containsDuplicate1(nums1), containsDuplicate2(nums1)"
   ]
  },
  {
   "cell_type": "code",
   "execution_count": 7,
   "metadata": {},
   "outputs": [],
   "source": [
    "nums2 = [1, 2, 3, 4]\n",
    "output1, output2 = containsDuplicate1(nums2), containsDuplicate2(nums2)"
   ]
  },
  {
   "cell_type": "code",
   "execution_count": 9,
   "metadata": {},
   "outputs": [],
   "source": [
    "nums3 = [1, 1, 1, 3, 3, 4, 3, 2, 4, 2]\n",
    "output1, output2 = containsDuplicate1(nums3), containsDuplicate2(nums3)"
   ]
  },
  {
   "cell_type": "code",
   "execution_count": 10,
   "metadata": {},
   "outputs": [
    {
     "name": "stdout",
     "output_type": "stream",
     "text": [
      "Hàm thứ 1: False\n",
      "Hàm thứ 2: False\n"
     ]
    }
   ],
   "source": [
    "print(f\"Hàm thứ 1: {output1}\\nHàm thứ 2: {output2}\")"
   ]
  },
  {
   "cell_type": "markdown",
   "metadata": {},
   "source": [
    "Bài 2: Nhóm các chuỗi đảo chữ"
   ]
  },
  {
   "cell_type": "code",
   "execution_count": 64,
   "metadata": {},
   "outputs": [],
   "source": [
    "def groupAnagrams(strs):\n",
    "    list_result = []\n",
    "    for i in strs:\n",
    "        str_temp = \"\".join(sorted(i))\n",
    "        list_result.append(str_temp)\n",
    "    \n",
    "    dict_str = {}\n",
    "\n",
    "    for i in list_result:\n",
    "        lst = []\n",
    "        for j in strs:\n",
    "            str_temp = \"\".join(sorted(j))\n",
    "            if str_temp == i:\n",
    "                lst.append(j)\n",
    "        dict_str[i] = lst \n",
    "    \n",
    "    ans = []\n",
    "    for values in dict_str.values():\n",
    "        ans.append(values)\n",
    "        \n",
    "    return ans"
   ]
  },
  {
   "cell_type": "code",
   "execution_count": 65,
   "metadata": {},
   "outputs": [
    {
     "name": "stdout",
     "output_type": "stream",
     "text": [
      "[['eat', 'tea', 'ate'], ['tan', 'nat'], ['bat']]\n"
     ]
    }
   ],
   "source": [
    "str1 = [\"eat\", \"tea\", \"tan\", \"ate\", \"nat\", \"bat\"]\n",
    "print(groupAnagrams(str1))"
   ]
  },
  {
   "cell_type": "code",
   "execution_count": 66,
   "metadata": {},
   "outputs": [
    {
     "name": "stdout",
     "output_type": "stream",
     "text": [
      "[['']]\n"
     ]
    }
   ],
   "source": [
    "str2 = [\"\"]\n",
    "print(groupAnagrams(str2))"
   ]
  },
  {
   "cell_type": "code",
   "execution_count": 67,
   "metadata": {},
   "outputs": [
    {
     "name": "stdout",
     "output_type": "stream",
     "text": [
      "[['a']]\n"
     ]
    }
   ],
   "source": [
    "str3 = [\"a\"]\n",
    "print(groupAnagrams(str3))"
   ]
  },
  {
   "cell_type": "markdown",
   "metadata": {},
   "source": [
    "Bài 3: Tìm các số có tổng bằng đích"
   ]
  },
  {
   "cell_type": "code",
   "execution_count": 27,
   "metadata": {},
   "outputs": [],
   "source": [
    "def twoSum(nums, target):\n",
    "    dict_values = {}\n",
    "\n",
    "    for i in range(len(nums)):\n",
    "        diff = target - nums[i]\n",
    "        if diff in dict_values:\n",
    "            return [dict_values[diff], i]\n",
    "        dict_values[nums[i]] = i\n",
    "    \n",
    "    return []"
   ]
  },
  {
   "cell_type": "code",
   "execution_count": 28,
   "metadata": {},
   "outputs": [],
   "source": [
    "nums1 = [2, 7, 11, 15]\n",
    "target1 = 9\n",
    "output = twoSum(nums1, target1)"
   ]
  },
  {
   "cell_type": "code",
   "execution_count": 30,
   "metadata": {},
   "outputs": [],
   "source": [
    "nums2 = [3, 2, 4]\n",
    "target2 = 6\n",
    "output = twoSum(nums2, target2)"
   ]
  },
  {
   "cell_type": "code",
   "execution_count": 32,
   "metadata": {},
   "outputs": [],
   "source": [
    "nums3 = [3, 3]\n",
    "target3 = 6\n",
    "output = twoSum(nums3, target3)"
   ]
  },
  {
   "cell_type": "code",
   "execution_count": 33,
   "metadata": {},
   "outputs": [
    {
     "name": "stdout",
     "output_type": "stream",
     "text": [
      "Output: [0, 1]\n"
     ]
    }
   ],
   "source": [
    "print(f\"Output: {output}\")"
   ]
  }
 ],
 "metadata": {
  "kernelspec": {
   "display_name": "Python 3",
   "language": "python",
   "name": "python3"
  },
  "language_info": {
   "codemirror_mode": {
    "name": "ipython",
    "version": 3
   },
   "file_extension": ".py",
   "mimetype": "text/x-python",
   "name": "python",
   "nbconvert_exporter": "python",
   "pygments_lexer": "ipython3",
   "version": "3.12.4"
  }
 },
 "nbformat": 4,
 "nbformat_minor": 2
}
