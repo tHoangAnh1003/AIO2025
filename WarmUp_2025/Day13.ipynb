{
 "cells": [
  {
   "cell_type": "code",
   "execution_count": 1,
   "metadata": {},
   "outputs": [],
   "source": [
    "import numpy as np"
   ]
  },
  {
   "cell_type": "markdown",
   "metadata": {},
   "source": [
    "Bài 1"
   ]
  },
  {
   "cell_type": "code",
   "execution_count": 3,
   "metadata": {},
   "outputs": [],
   "source": [
    "arr = np.array([1, 2, 3])\n",
    "matrix = np.array([[1, 2, 3], [4, 5, 6]])"
   ]
  },
  {
   "cell_type": "code",
   "execution_count": 5,
   "metadata": {},
   "outputs": [
    {
     "name": "stdout",
     "output_type": "stream",
     "text": [
      "(3,)\n",
      "(2, 3)\n"
     ]
    }
   ],
   "source": [
    "print(arr.shape)\n",
    "print(matrix.shape)"
   ]
  },
  {
   "cell_type": "code",
   "execution_count": 6,
   "metadata": {},
   "outputs": [
    {
     "name": "stdout",
     "output_type": "stream",
     "text": [
      "int64\n",
      "float32\n"
     ]
    }
   ],
   "source": [
    "print(arr.dtype)\n",
    "float_arr = np.array([1.0, 7.0], dtype=np.float32)\n",
    "print(float_arr.dtype)"
   ]
  },
  {
   "cell_type": "code",
   "execution_count": 8,
   "metadata": {},
   "outputs": [],
   "source": [
    "zeros = np.zeros((2, 3))\n",
    "one = np.ones((3, ))\n",
    "range_arr = np.arange(0, 10, 2)\n",
    "lin_arr = np.linspace(0, 1, 5)"
   ]
  },
  {
   "cell_type": "code",
   "execution_count": 10,
   "metadata": {},
   "outputs": [
    {
     "name": "stdout",
     "output_type": "stream",
     "text": [
      "[[0. 0. 0.]\n",
      " [0. 0. 0.]]\n",
      "[1. 1. 1.]\n",
      "[0 2 4 6 8]\n",
      "[0.   0.25 0.5  0.75 1.  ]\n"
     ]
    }
   ],
   "source": [
    "print(zeros)\n",
    "print(one) \n",
    "print(range_arr)\n",
    "print(lin_arr)"
   ]
  },
  {
   "cell_type": "code",
   "execution_count": 11,
   "metadata": {},
   "outputs": [
    {
     "name": "stdout",
     "output_type": "stream",
     "text": [
      "[1 2 3 4 5]\n",
      "[2 3 4]\n",
      "2\n"
     ]
    }
   ],
   "source": [
    "arr = np.array([1, 2, 3, 4, 5])\n",
    "print(arr)\n",
    "print(arr[1:4])\n",
    "\n",
    "arr[2]= 10\n",
    "\n",
    "matrix = np.array([[1, 2], [3, 4]])\n",
    "\n",
    "print(matrix[0, 1])"
   ]
  },
  {
   "cell_type": "code",
   "execution_count": 13,
   "metadata": {},
   "outputs": [
    {
     "name": "stdout",
     "output_type": "stream",
     "text": [
      "[4 6 8]\n",
      "[-2 -2 -2]\n",
      "26\n",
      "[[19 22]\n",
      " [43 50]]\n"
     ]
    }
   ],
   "source": [
    "a = np.array([1, 2, 3])\n",
    "b = np.array([3, 4, 5])\n",
    "\n",
    "print(a + b)\n",
    "print(a - b)\n",
    "print(a @ b)\n",
    "\n",
    "mat1 = np.array([[1, 2], [3, 4]])\n",
    "mat2 = np.array([[5, 6], [7, 8]])\n",
    "\n",
    "print(np.dot(mat1, mat2))"
   ]
  },
  {
   "cell_type": "code",
   "execution_count": 14,
   "metadata": {},
   "outputs": [
    {
     "name": "stdout",
     "output_type": "stream",
     "text": [
      "3.0\n",
      "15\n",
      "5\n",
      "1.4142135623730951\n"
     ]
    }
   ],
   "source": [
    "data = np.array([1, 2, 3, 4, 5])\n",
    "print(np.mean(data))\n",
    "print(np.sum(data))\n",
    "print(np.max(data))\n",
    "print(np.std(data))"
   ]
  },
  {
   "cell_type": "code",
   "execution_count": 15,
   "metadata": {},
   "outputs": [
    {
     "name": "stdout",
     "output_type": "stream",
     "text": [
      "[0 1 2 3 4 5]\n",
      "[[0 1 2]\n",
      " [3 4 5]]\n",
      "[0 1 2 3 4 5]\n",
      "[[0 3]\n",
      " [1 4]\n",
      " [2 5]]\n"
     ]
    }
   ],
   "source": [
    "arr = np.arange(6)\n",
    "print(arr)\n",
    "\n",
    "matrix = arr.reshape(2, 3)\n",
    "print(matrix)\n",
    "\n",
    "flat = matrix.flatten()\n",
    "print(flat)\n",
    "\n",
    "tranposed = matrix.T\n",
    "print(tranposed)"
   ]
  },
  {
   "cell_type": "markdown",
   "metadata": {},
   "source": [
    "Bài 2:"
   ]
  },
  {
   "cell_type": "code",
   "execution_count": 17,
   "metadata": {},
   "outputs": [
    {
     "name": "stdout",
     "output_type": "stream",
     "text": [
      "[1 0 3 0 5 0]\n",
      "['odd' 'even' 'odd' 'even' 'odd' 'even']\n",
      "(array([2, 4]),)\n"
     ]
    }
   ],
   "source": [
    "arr = np.array([1, -2, 3, -4, 5, -6])\n",
    "\n",
    "result1 = np.where(arr < 0, 0, arr)\n",
    "print(result1)\n",
    "\n",
    "result2 = np.where(arr%2==0, \"even\", \"odd\")\n",
    "print(result2)\n",
    "\n",
    "result3 = np.where(arr>2)\n",
    "print(result3)"
   ]
  },
  {
   "cell_type": "markdown",
   "metadata": {},
   "source": [
    "Bài 3:"
   ]
  },
  {
   "cell_type": "code",
   "execution_count": 22,
   "metadata": {},
   "outputs": [
    {
     "name": "stdout",
     "output_type": "stream",
     "text": [
      "['Mild' 'Mild' 'Hot' 'Mild' 'Hot' 'Cold' 'Mild']\n"
     ]
    }
   ],
   "source": [
    "temps = np.array([25, 28, 30, 22, 35, 18, 20])\n",
    "\n",
    "conditions = [temps < 20, (temps >= 20) & (temps < 30), temps >= 30]\n",
    "choices = [\"Cold\", \"Mild\", \"Hot\"]\n",
    "\n",
    "result = np.select(conditions, choices, default=\"None\")\n",
    "\n",
    "print(result)"
   ]
  },
  {
   "cell_type": "markdown",
   "metadata": {},
   "source": [
    "Bài 4:"
   ]
  },
  {
   "cell_type": "code",
   "execution_count": 24,
   "metadata": {},
   "outputs": [
    {
     "name": "stdout",
     "output_type": "stream",
     "text": [
      "[[73 87 23 49 99]\n",
      " [60 77 47 94 65]\n",
      " [15 46 16 57  8]\n",
      " [48 62 90 48 85]\n",
      " [79 46 31 22 23]]\n",
      "[[0.65789474 0.84210526 0.         0.34210526 1.        ]\n",
      " [0.27659574 0.63829787 0.         1.         0.38297872]\n",
      " [0.14285714 0.7755102  0.16326531 1.         0.        ]\n",
      " [0.         0.33333333 1.         0.         0.88095238]\n",
      " [1.         0.42105263 0.15789474 0.         0.01754386]]\n",
      "[[1.83723405e+29 1.91070133e+35 4.70763452e+07 7.06424656e+18\n",
      "  3.53179654e+40]\n",
      " [4.15275414e+23 8.67457061e+30 1.24701106e+18 2.46784304e+38\n",
      "  6.05317587e+25]\n",
      " [1.18873359e+04 2.98620108e+17 4.29280701e+04 2.10582222e+22\n",
      "  1.06462785e+01]\n",
      " [2.55154033e+18 2.65357128e+24 5.89566809e+36 2.59879108e+18\n",
      "  2.93679026e+34]\n",
      " [7.41193115e+31 2.98620108e+17 1.40332607e+11 1.32774550e+07\n",
      "  3.48028695e+07]]\n"
     ]
    }
   ],
   "source": [
    "mat = np.random.randint(1, 100, (5, 5))\n",
    "\n",
    "def caculate_row(row):\n",
    "    return (row - np.min(row)) / (np.max(row) - np.min(row))\n",
    "\n",
    "mat_2 = np.apply_along_axis(caculate_row, axis=1, arr=mat)\n",
    "\n",
    "def softmax(col):\n",
    "    exp_col = np.exp(col)\n",
    "    return exp_col / np.sum(col)\n",
    "\n",
    "softmax_mat = np.apply_along_axis(softmax, axis=0, arr=mat)\n",
    "\n",
    "print(mat)\n",
    "print(mat_2)\n",
    "print(softmax_mat)"
   ]
  },
  {
   "cell_type": "markdown",
   "metadata": {},
   "source": [
    "Bài 5:"
   ]
  },
  {
   "cell_type": "code",
   "execution_count": 34,
   "metadata": {},
   "outputs": [
    {
     "name": "stdout",
     "output_type": "stream",
     "text": [
      "[[1.  2.  7.5]\n",
      " [4.  5.  6. ]\n",
      " [7.  8.  9. ]]\n",
      "[[-1.22474487 -1.22474487  0.        ]\n",
      " [ 0.          0.         -1.22474487]\n",
      " [ 1.22474487  1.22474487  1.22474487]]\n",
      "[[0.  0.  0.5]\n",
      " [0.5 0.5 0. ]\n",
      " [1.  1.  1. ]]\n"
     ]
    }
   ],
   "source": [
    "data = np.array([\n",
    "    [1, 2, np.nan],\n",
    "    [4, np.nan, 6],\n",
    "    [7, 8, 9]\n",
    "])\n",
    "\n",
    "data_filled = data.copy()\n",
    "for col in range(data.shape[1]):\n",
    "    col_mean = np.nanmean(data[:, col])  \n",
    "    data_filled[:, col] = np.where(np.isnan(data[:, col]), col_mean, data[:, col])\n",
    "\n",
    "print(data_filled)\n",
    "\n",
    "col_means_filled = np.mean(data_filled, axis=0)\n",
    "col_stds = np.std(data_filled, axis=0)\n",
    "z_score = (data_filled - col_means_filled) / col_stds\n",
    "\n",
    "col_mins = np.min(data_filled, axis=0)\n",
    "col_maxs = np.max(data_filled, axis=0)\n",
    "min_max_scaled = (data_filled - col_mins) / (col_maxs - col_mins)\n",
    "\n",
    "print(z_score)\n",
    "print(min_max_scaled)"
   ]
  }
 ],
 "metadata": {
  "kernelspec": {
   "display_name": "Python 3",
   "language": "python",
   "name": "python3"
  },
  "language_info": {
   "codemirror_mode": {
    "name": "ipython",
    "version": 3
   },
   "file_extension": ".py",
   "mimetype": "text/x-python",
   "name": "python",
   "nbconvert_exporter": "python",
   "pygments_lexer": "ipython3",
   "version": "3.12.4"
  }
 },
 "nbformat": 4,
 "nbformat_minor": 2
}
