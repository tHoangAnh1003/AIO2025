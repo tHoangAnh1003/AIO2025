{
 "cells": [
  {
   "cell_type": "markdown",
   "metadata": {},
   "source": [
    "Bài 1:"
   ]
  },
  {
   "cell_type": "code",
   "execution_count": 17,
   "metadata": {},
   "outputs": [
    {
     "name": "stdout",
     "output_type": "stream",
     "text": [
      "Ma trận: \n",
      "1 2 3 \n",
      "4 5 6 \n",
      "7 8 9 \n",
      "Tổng các phần tử: 45\n"
     ]
    }
   ],
   "source": [
    "max_len = 3\n",
    "matrix = [[int(input(f\"Nhập phần tử [{i}][{j}]: \")) for j in range(max_len)] for i in range(max_len)]\n",
    "\n",
    "\n",
    "print(\"Ma trận: \")\n",
    "for i in range(max_len):\n",
    "    for j in range(max_len):\n",
    "        print(matrix[i][j], end=\" \")\n",
    "    print()\n",
    "\n",
    "print(f\"Tổng các phần tử: {sum([sum(row) for row in matrix])}\")"
   ]
  },
  {
   "cell_type": "markdown",
   "metadata": {},
   "source": [
    "Bài 2:"
   ]
  },
  {
   "cell_type": "code",
   "execution_count": 12,
   "metadata": {},
   "outputs": [
    {
     "name": "stdout",
     "output_type": "stream",
     "text": [
      "List ban đầu: [0, 1, 2, 3, 4, 5, 6, 7, 8, 9]\n",
      "Từ chỉ số 2 đến chỉ số 6: [2, 3, 4, 5, 6]\n",
      "Các số chẵn: [0, 2, 4, 6, 8]\n",
      "List đảo ngược: [9, 8, 7, 6, 5, 4, 3, 2, 1, 0]\n"
     ]
    }
   ],
   "source": [
    "numbers = [0, 1, 2, 3, 4, 5, 6, 7, 8, 9]\n",
    "\n",
    "print(f\"List ban đầu: {numbers}\")\n",
    "start, end = 2, 6\n",
    "print(f\"Từ chỉ số {start} đến chỉ số {end}: {numbers[2:end+1]}\")\n",
    "print(f\"Các số chẵn: {numbers[::2]}\")\n",
    "print(f\"List đảo ngược: {numbers[::-1]}\")"
   ]
  },
  {
   "cell_type": "markdown",
   "metadata": {},
   "source": [
    "Bài 3:"
   ]
  },
  {
   "cell_type": "code",
   "execution_count": 16,
   "metadata": {},
   "outputs": [
    {
     "name": "stdout",
     "output_type": "stream",
     "text": [
      "List ban đầu: [1, 2, 2, 3, 4, 4, 5]\n",
      "Set sau khi loại trùng và thêm 6: 1, 2, 3, 4, 5, 6\n",
      "Tuple: (1, 2, 3, 4, 5, 6)\n",
      "Giá trị lớn nhất: 6\n"
     ]
    }
   ],
   "source": [
    "numbers = [1, 2, 2, 3, 4, 4, 5]\n",
    "print(f\"List ban đầu: {numbers}\")\n",
    "\n",
    "value_add = 6\n",
    "numbers = set(numbers)\n",
    "numbers.add(value_add)\n",
    "print(f\"Set sau khi loại trùng và thêm {value_add}: {\", \".join(map(str, numbers))}\")\n",
    "\n",
    "numbers = tuple(numbers)\n",
    "print(f\"Tuple: {numbers}\")\n",
    "print(f\"Giá trị lớn nhất: {max(numbers)}\")"
   ]
  }
 ],
 "metadata": {
  "kernelspec": {
   "display_name": "Python 3",
   "language": "python",
   "name": "python3"
  },
  "language_info": {
   "codemirror_mode": {
    "name": "ipython",
    "version": 3
   },
   "file_extension": ".py",
   "mimetype": "text/x-python",
   "name": "python",
   "nbconvert_exporter": "python",
   "pygments_lexer": "ipython3",
   "version": "3.12.4"
  }
 },
 "nbformat": 4,
 "nbformat_minor": 2
}
