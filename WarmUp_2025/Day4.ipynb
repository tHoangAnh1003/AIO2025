{
 "cells": [
  {
   "cell_type": "markdown",
   "metadata": {},
   "source": [
    "Bài 1: Factorial"
   ]
  },
  {
   "cell_type": "code",
   "execution_count": 1,
   "metadata": {},
   "outputs": [],
   "source": [
    "def factorial(n):\n",
    "    result = 1\n",
    "    for i in range(1, n + 1):\n",
    "        result *= i \n",
    "    return result"
   ]
  },
  {
   "cell_type": "code",
   "execution_count": 2,
   "metadata": {},
   "outputs": [
    {
     "name": "stdout",
     "output_type": "stream",
     "text": [
      "Giai thừa của 6 là 720\n"
     ]
    }
   ],
   "source": [
    "n = 6\n",
    "print(f\"Giai thừa của {n} là {factorial(n)}\")"
   ]
  },
  {
   "cell_type": "markdown",
   "metadata": {},
   "source": [
    "Bài 2: Taylor"
   ]
  },
  {
   "cell_type": "code",
   "execution_count": 3,
   "metadata": {},
   "outputs": [],
   "source": [
    "import math\n",
    "\n",
    "def calculate_e(n):\n",
    "    e_approx = 1\n",
    "\n",
    "    for i in range(1, n + 1):\n",
    "        e_approx = e_approx + 1 / factorial(i)\n",
    "    \n",
    "    return e_approx"
   ]
  },
  {
   "cell_type": "code",
   "execution_count": 4,
   "metadata": {},
   "outputs": [
    {
     "name": "stdout",
     "output_type": "stream",
     "text": [
      "Số e gần đúng với 8 số hạng: 2.71827876984127\n",
      "Số e thực tế: 2.718281828459045\n",
      "Độ lệch: 3.0586177750535626e-06\n"
     ]
    }
   ],
   "source": [
    "n = 8\n",
    "e_approx = calculate_e(n)\n",
    "print(f\"Số e gần đúng với {n} số hạng: {e_approx}\")\n",
    "print(f\"Số e thực tế: {math.e}\")\n",
    "print(f\"Độ lệch: {abs(math.e - e_approx)}\") "
   ]
  },
  {
   "cell_type": "markdown",
   "metadata": {},
   "source": [
    "Bài 3: Tính e^x"
   ]
  },
  {
   "cell_type": "code",
   "execution_count": 5,
   "metadata": {},
   "outputs": [],
   "source": [
    "def calculate_exp(x, n):\n",
    "    exp_approx = 1\n",
    "\n",
    "    for i in range(1, n + 1):\n",
    "        exp_approx += (x ** i) / factorial(i)\n",
    "    \n",
    "    return exp_approx"
   ]
  },
  {
   "cell_type": "code",
   "execution_count": 6,
   "metadata": {},
   "outputs": [
    {
     "name": "stdout",
     "output_type": "stream",
     "text": [
      "e^2 gần đúng với 10 số hạng: 7.388994708994708\n",
      "e^2 thực tế: 7.38905609893065\n",
      "Độ lệch: 6.138993594273501e-05\n"
     ]
    }
   ],
   "source": [
    "x = 2\n",
    "n = 10\n",
    "exp_approx = calculate_exp(x, n)\n",
    "print (f\"e^{x} gần đúng với {n} số hạng: {exp_approx}\")\n",
    "print (f\"e^{x} thực tế: {math.exp(x)}\")\n",
    "print (f\"Độ lệch: {abs(math.exp(x) - exp_approx)}\")"
   ]
  }
 ],
 "metadata": {
  "kernelspec": {
   "display_name": "Python 3",
   "language": "python",
   "name": "python3"
  },
  "language_info": {
   "codemirror_mode": {
    "name": "ipython",
    "version": 3
   },
   "file_extension": ".py",
   "mimetype": "text/x-python",
   "name": "python",
   "nbconvert_exporter": "python",
   "pygments_lexer": "ipython3",
   "version": "3.12.4"
  }
 },
 "nbformat": 4,
 "nbformat_minor": 2
}
