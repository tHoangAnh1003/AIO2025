{
 "cells": [
  {
   "cell_type": "code",
   "execution_count": 1,
   "metadata": {},
   "outputs": [],
   "source": [
    "import pandas as pd"
   ]
  },
  {
   "cell_type": "markdown",
   "metadata": {},
   "source": [
    "Bài 1:"
   ]
  },
  {
   "cell_type": "code",
   "execution_count": 2,
   "metadata": {},
   "outputs": [
    {
     "name": "stdout",
     "output_type": "stream",
     "text": [
      "   id             name               nationality                 city  \\\n",
      "0   0        Kiana Lor                     China               Suzhou   \n",
      "1   1   Joshua Lonaker  United States of America        Santa Clarita   \n",
      "2   2    Dakota Blanco  United States of America              Oakland   \n",
      "3   3  Natasha Yarusso  United States of America        Castro Valley   \n",
      "4   4   Brooke Cazares                    Brazil  São José dos Campos   \n",
      "\n",
      "   latitude  longitude gender  ethnic.group  age  english.grade  math.grade  \\\n",
      "0     31.31     120.62      F           NaN   22            3.5         3.7   \n",
      "1     34.39    -118.54      M           NaN   22            2.9         3.2   \n",
      "2     37.80    -122.27      F           NaN   22            3.9         3.8   \n",
      "3     37.69    -122.09      F           NaN   20            3.3         2.8   \n",
      "4    -23.18     -45.88      F           NaN   21            3.7         2.6   \n",
      "\n",
      "   sciences.grade  language.grade  portfolio.rating  coverletter.rating  \\\n",
      "0             3.1             1.0                 4                 4.0   \n",
      "1             3.6             5.0                 5                 4.0   \n",
      "2             3.2             5.0                 3                 3.0   \n",
      "3             3.2             5.0                 5                 2.0   \n",
      "4             3.4             1.0                 4                 4.0   \n",
      "\n",
      "   refletter.rating  \n",
      "0                 4  \n",
      "1                 5  \n",
      "2                 4  \n",
      "3                 4  \n",
      "4                 5  \n"
     ]
    }
   ],
   "source": [
    "df = pd.read_csv('./student.csv')\n",
    "print(df.head())"
   ]
  },
  {
   "cell_type": "code",
   "execution_count": 3,
   "metadata": {},
   "outputs": [
    {
     "name": "stdout",
     "output_type": "stream",
     "text": [
      "F\n",
      "Kiana Lor\n",
      "Kiana Lor\n",
      "Kiana Lor\n",
      "      id               name               nationality         city  latitude  \\\n",
      "0      0          Kiana Lor                     China       Suzhou     31.31   \n",
      "2      2      Dakota Blanco  United States of America      Oakland     37.80   \n",
      "6      6         Joey Abreu                     China     Shenyang     41.79   \n",
      "7      7     Preston Suarez                    Brazil    São Paulo    -23.47   \n",
      "8      8           Lee Dong               Philippines       Manila     14.60   \n",
      "..   ...                ...                       ...          ...       ...   \n",
      "300  300    Tessa Rawanduzy  United States of America        Derby     37.55   \n",
      "301  301   Vanessa Gonzalez                 Nicaragua         León     12.44   \n",
      "302  302        Austin Haas  United States of America     Columbus     39.96   \n",
      "303  303    Madison Fithian  United States of America  Los Angeles     34.05   \n",
      "304  304  Zachary Mulvahill  United States of America  Los Angeles     34.05   \n",
      "\n",
      "     longitude gender  ethnic.group  age  english.grade  math.grade  \\\n",
      "0       120.62      F           NaN   22            3.5         3.7   \n",
      "2      -122.27      F           NaN   22            3.9         3.8   \n",
      "6       123.43      M           NaN   22            3.7         3.9   \n",
      "7       -46.67      M           NaN   22            3.8         3.7   \n",
      "8       120.98      F           NaN   24            3.9         3.6   \n",
      "..         ...    ...           ...  ...            ...         ...   \n",
      "300     -97.27      F           NaN   21            3.3         3.3   \n",
      "301     -86.88      F           NaN   24            3.3         3.7   \n",
      "302     -83.00      M           NaN   20            3.6         3.7   \n",
      "303    -118.24      F           NaN   20            3.6         3.9   \n",
      "304    -118.24      M           NaN   20            3.2         3.4   \n",
      "\n",
      "     sciences.grade  language.grade  portfolio.rating  coverletter.rating  \\\n",
      "0               3.1             1.0                 4                 4.0   \n",
      "2               3.2             5.0                 3                 3.0   \n",
      "6               3.6             2.0                 5                 5.0   \n",
      "7               3.6             2.0                 5                 5.0   \n",
      "8               3.2             2.0                 4                 3.0   \n",
      "..              ...             ...               ...                 ...   \n",
      "300             2.0             5.0                 3                 3.0   \n",
      "301             3.8             3.0                 5                 5.0   \n",
      "302             3.1             5.0                 4                 5.0   \n",
      "303             4.0             5.0                 5                 5.0   \n",
      "304             3.9             5.0                 5                 5.0   \n",
      "\n",
      "     refletter.rating  \n",
      "0                   4  \n",
      "2                   4  \n",
      "6                   5  \n",
      "7                   4  \n",
      "8                   5  \n",
      "..                ...  \n",
      "300                 5  \n",
      "301                 4  \n",
      "302                 5  \n",
      "303                 3  \n",
      "304                 3  \n",
      "\n",
      "[208 rows x 16 columns]\n"
     ]
    }
   ],
   "source": [
    "print(df.loc[0, 'gender'])\n",
    "print(df.iloc[0, 1])\n",
    "print(df.at[0, 'name'])\n",
    "print(df.iat[0, 1])\n",
    "print(df[df['math.grade'] > 3.2])"
   ]
  },
  {
   "cell_type": "code",
   "execution_count": 4,
   "metadata": {},
   "outputs": [
    {
     "name": "stdout",
     "output_type": "stream",
     "text": [
      "   id             name               nationality                 city  \\\n",
      "0   0        Kiana Lor                     China               Suzhou   \n",
      "1   1   Joshua Lonaker  United States of America        Santa Clarita   \n",
      "2   2    Dakota Blanco  United States of America              Oakland   \n",
      "3   3  Natasha Yarusso  United States of America        Castro Valley   \n",
      "4   4   Brooke Cazares                    Brazil  São José dos Campos   \n",
      "\n",
      "   latitude  longitude gender  ethnic.group  age  english.grade  math.grade  \\\n",
      "0     31.31     120.62      F           NaN   22            3.5         3.7   \n",
      "1     34.39    -118.54      M           NaN   22            2.9         3.2   \n",
      "2     37.80    -122.27      F           NaN   22            3.9         3.8   \n",
      "3     37.69    -122.09      F           NaN   20            3.3         2.8   \n",
      "4    -23.18     -45.88      F           NaN   21            3.7         2.6   \n",
      "\n",
      "   sciences.grade  language.grade  portfolio.rating  coverletter.rating  \\\n",
      "0             3.1             1.0                 4                 4.0   \n",
      "1             3.6             5.0                 5                 4.0   \n",
      "2             3.2             5.0                 3                 3.0   \n",
      "3             3.2             5.0                 5                 2.0   \n",
      "4             3.4             1.0                 4                 4.0   \n",
      "\n",
      "   refletter.rating           cot_moi  \n",
      "0                 4        FKiana Lor  \n",
      "1                 5   MJoshua Lonaker  \n",
      "2                 4    FDakota Blanco  \n",
      "3                 4  FNatasha Yarusso  \n",
      "4                 5   FBrooke Cazares  \n"
     ]
    }
   ],
   "source": [
    "df['cot_moi'] = df['gender'] + df['name']\n",
    "print(df.head())"
   ]
  },
  {
   "cell_type": "code",
   "execution_count": 5,
   "metadata": {},
   "outputs": [],
   "source": [
    "df = df.drop(columns=['cot_moi'])"
   ]
  }
 ],
 "metadata": {
  "kernelspec": {
   "display_name": "Python 3",
   "language": "python",
   "name": "python3"
  },
  "language_info": {
   "codemirror_mode": {
    "name": "ipython",
    "version": 3
   },
   "file_extension": ".py",
   "mimetype": "text/x-python",
   "name": "python",
   "nbconvert_exporter": "python",
   "pygments_lexer": "ipython3",
   "version": "3.12.4"
  }
 },
 "nbformat": 4,
 "nbformat_minor": 2
}
