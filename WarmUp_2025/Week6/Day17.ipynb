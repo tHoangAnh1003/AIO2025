{
 "cells": [
  {
   "cell_type": "code",
   "execution_count": 1,
   "metadata": {},
   "outputs": [],
   "source": [
    "import pandas as pd"
   ]
  },
  {
   "cell_type": "markdown",
   "metadata": {},
   "source": [
    "Bài 1:"
   ]
  },
  {
   "cell_type": "code",
   "execution_count": 2,
   "metadata": {},
   "outputs": [
    {
     "name": "stdout",
     "output_type": "stream",
     "text": [
      "   id             name               nationality                 city  \\\n",
      "0   0        Kiana Lor                     China               Suzhou   \n",
      "1   1   Joshua Lonaker  United States of America        Santa Clarita   \n",
      "2   2    Dakota Blanco  United States of America              Oakland   \n",
      "3   3  Natasha Yarusso  United States of America        Castro Valley   \n",
      "4   4   Brooke Cazares                    Brazil  São José dos Campos   \n",
      "\n",
      "   latitude  longitude gender  ethnic.group  age  english.grade  math.grade  \\\n",
      "0     31.31     120.62      F           NaN   22            3.5         3.7   \n",
      "1     34.39    -118.54      M           NaN   22            2.9         3.2   \n",
      "2     37.80    -122.27      F           NaN   22            3.9         3.8   \n",
      "3     37.69    -122.09      F           NaN   20            3.3         2.8   \n",
      "4    -23.18     -45.88      F           NaN   21            3.7         2.6   \n",
      "\n",
      "   sciences.grade  language.grade  portfolio.rating  coverletter.rating  \\\n",
      "0             3.1             1.0                 4                 4.0   \n",
      "1             3.6             5.0                 5                 4.0   \n",
      "2             3.2             5.0                 3                 3.0   \n",
      "3             3.2             5.0                 5                 2.0   \n",
      "4             3.4             1.0                 4                 4.0   \n",
      "\n",
      "   refletter.rating  \n",
      "0                 4  \n",
      "1                 5  \n",
      "2                 4  \n",
      "3                 4  \n",
      "4                 5  \n"
     ]
    }
   ],
   "source": [
    "df = pd.read_csv('./student.csv')\n",
    "print(df.head())"
   ]
  },
  {
   "cell_type": "code",
   "execution_count": 3,
   "metadata": {},
   "outputs": [
    {
     "data": {
      "text/plain": [
       "id                      0\n",
       "name                    0\n",
       "nationality             0\n",
       "city                    0\n",
       "latitude                0\n",
       "longitude               0\n",
       "gender                  0\n",
       "ethnic.group          307\n",
       "age                     0\n",
       "english.grade           0\n",
       "math.grade              0\n",
       "sciences.grade          0\n",
       "language.grade          0\n",
       "portfolio.rating        0\n",
       "coverletter.rating      0\n",
       "refletter.rating        0\n",
       "dtype: int64"
      ]
     },
     "execution_count": 3,
     "metadata": {},
     "output_type": "execute_result"
    }
   ],
   "source": [
    "df.isnull().sum()"
   ]
  },
  {
   "cell_type": "code",
   "execution_count": 4,
   "metadata": {},
   "outputs": [
    {
     "name": "stdout",
     "output_type": "stream",
     "text": [
      "   id             name               nationality                 city  \\\n",
      "0   0        Kiana Lor                     China               Suzhou   \n",
      "1   1   Joshua Lonaker  United States of America        Santa Clarita   \n",
      "2   2    Dakota Blanco  United States of America              Oakland   \n",
      "3   3  Natasha Yarusso  United States of America        Castro Valley   \n",
      "4   4   Brooke Cazares                    Brazil  São José dos Campos   \n",
      "\n",
      "   latitude  longitude gender  ethnic.group  age  english.grade  math.grade  \\\n",
      "0     31.31     120.62      F           0.0   22            3.5         3.7   \n",
      "1     34.39    -118.54      M           0.0   22            2.9         3.2   \n",
      "2     37.80    -122.27      F           0.0   22            3.9         3.8   \n",
      "3     37.69    -122.09      F           0.0   20            3.3         2.8   \n",
      "4    -23.18     -45.88      F           0.0   21            3.7         2.6   \n",
      "\n",
      "   sciences.grade  language.grade  portfolio.rating  coverletter.rating  \\\n",
      "0             3.1             1.0                 4                 4.0   \n",
      "1             3.6             5.0                 5                 4.0   \n",
      "2             3.2             5.0                 3                 3.0   \n",
      "3             3.2             5.0                 5                 2.0   \n",
      "4             3.4             1.0                 4                 4.0   \n",
      "\n",
      "   refletter.rating  \n",
      "0                 4  \n",
      "1                 5  \n",
      "2                 4  \n",
      "3                 4  \n",
      "4                 5  \n"
     ]
    }
   ],
   "source": [
    "df = df.fillna(0)\n",
    "print(df.head())"
   ]
  },
  {
   "cell_type": "code",
   "execution_count": 5,
   "metadata": {},
   "outputs": [
    {
     "name": "stdout",
     "output_type": "stream",
     "text": [
      "   id             name               nationality                 city  \\\n",
      "0   0        Kiana Lor                     China               Suzhou   \n",
      "1   1   Joshua Lonaker  United States of America        Santa Clarita   \n",
      "2   2    Dakota Blanco  United States of America              Oakland   \n",
      "3   3  Natasha Yarusso  United States of America        Castro Valley   \n",
      "4   4   Brooke Cazares                    Brazil  São José dos Campos   \n",
      "\n",
      "   latitude  longitude gender  ethnic.group  age  english.grade  math.grade  \\\n",
      "0     31.31     120.62      F           0.0   22            3.5         3.7   \n",
      "1     34.39    -118.54      M           0.0   22            2.9         3.2   \n",
      "2     37.80    -122.27      F           0.0   22            3.9         3.8   \n",
      "3     37.69    -122.09      F           0.0   20            3.3         2.8   \n",
      "4    -23.18     -45.88      F           0.0   21            3.7         2.6   \n",
      "\n",
      "   sciences.grade  language.grade  portfolio.rating  coverletter.rating  \\\n",
      "0             3.1             1.0                 4                 4.0   \n",
      "1             3.6             5.0                 5                 4.0   \n",
      "2             3.2             5.0                 3                 3.0   \n",
      "3             3.2             5.0                 5                 2.0   \n",
      "4             3.4             1.0                 4                 4.0   \n",
      "\n",
      "   refletter.rating  \n",
      "0                 4  \n",
      "1                 5  \n",
      "2                 4  \n",
      "3                 4  \n",
      "4                 5  \n"
     ]
    }
   ],
   "source": [
    "df = df.dropna()\n",
    "print(df.head())"
   ]
  },
  {
   "cell_type": "markdown",
   "metadata": {},
   "source": [
    "Bài 2:"
   ]
  },
  {
   "cell_type": "code",
   "execution_count": 6,
   "metadata": {},
   "outputs": [
    {
     "data": {
      "text/html": [
       "<div>\n",
       "<style scoped>\n",
       "    .dataframe tbody tr th:only-of-type {\n",
       "        vertical-align: middle;\n",
       "    }\n",
       "\n",
       "    .dataframe tbody tr th {\n",
       "        vertical-align: top;\n",
       "    }\n",
       "\n",
       "    .dataframe thead th {\n",
       "        text-align: right;\n",
       "    }\n",
       "</style>\n",
       "<table border=\"1\" class=\"dataframe\">\n",
       "  <thead>\n",
       "    <tr style=\"text-align: right;\">\n",
       "      <th></th>\n",
       "      <th>math.grade</th>\n",
       "      <th>sciences.grade</th>\n",
       "    </tr>\n",
       "    <tr>\n",
       "      <th>gender</th>\n",
       "      <th></th>\n",
       "      <th></th>\n",
       "    </tr>\n",
       "  </thead>\n",
       "  <tbody>\n",
       "    <tr>\n",
       "      <th>F</th>\n",
       "      <td>3.394079</td>\n",
       "      <td>517.6</td>\n",
       "    </tr>\n",
       "    <tr>\n",
       "      <th>M</th>\n",
       "      <td>3.435099</td>\n",
       "      <td>526.0</td>\n",
       "    </tr>\n",
       "    <tr>\n",
       "      <th>other</th>\n",
       "      <td>3.400000</td>\n",
       "      <td>14.5</td>\n",
       "    </tr>\n",
       "  </tbody>\n",
       "</table>\n",
       "</div>"
      ],
      "text/plain": [
       "        math.grade  sciences.grade\n",
       "gender                            \n",
       "F         3.394079           517.6\n",
       "M         3.435099           526.0\n",
       "other     3.400000            14.5"
      ]
     },
     "execution_count": 6,
     "metadata": {},
     "output_type": "execute_result"
    }
   ],
   "source": [
    "df.groupby('gender').agg({'math.grade': 'mean', 'sciences.grade': 'sum'})"
   ]
  },
  {
   "cell_type": "code",
   "execution_count": 7,
   "metadata": {},
   "outputs": [
    {
     "name": "stdout",
     "output_type": "stream",
     "text": [
      "   id             name               nationality                 city  \\\n",
      "0   0        Kiana Lor                     China               Suzhou   \n",
      "1   1   Joshua Lonaker  United States of America        Santa Clarita   \n",
      "2   2    Dakota Blanco  United States of America              Oakland   \n",
      "3   3  Natasha Yarusso  United States of America        Castro Valley   \n",
      "4   4   Brooke Cazares                    Brazil  São José dos Campos   \n",
      "\n",
      "   latitude  longitude gender  ethnic.group  age  english.grade  math.grade  \\\n",
      "0     31.31     120.62      F           0.0   22            3.5         3.7   \n",
      "1     34.39    -118.54      M           0.0   22            2.9         3.2   \n",
      "2     37.80    -122.27      F           0.0   22            3.9         3.8   \n",
      "3     37.69    -122.09      F           0.0   20            3.3         2.8   \n",
      "4    -23.18     -45.88      F           0.0   21            3.7         2.6   \n",
      "\n",
      "   sciences.grade  language.grade  portfolio.rating  coverletter.rating  \\\n",
      "0             3.1             1.0                 4                 4.0   \n",
      "1             3.6             5.0                 5                 4.0   \n",
      "2             3.2             5.0                 3                 3.0   \n",
      "3             3.2             5.0                 5                 2.0   \n",
      "4             3.4             1.0                 4                 4.0   \n",
      "\n",
      "   refletter.rating  adjusted_age  \n",
      "0                 4            21  \n",
      "1                 5            21  \n",
      "2                 4            21  \n",
      "3                 4            19  \n",
      "4                 5            20  \n"
     ]
    }
   ],
   "source": [
    "df['adjusted_age'] = df['age'].apply(lambda x: x + 2 if x < 18 else x - 1)\n",
    "print(df.head())"
   ]
  },
  {
   "cell_type": "code",
   "execution_count": 8,
   "metadata": {},
   "outputs": [
    {
     "name": "stdout",
     "output_type": "stream",
     "text": [
      "   id             name               nationality                 city  \\\n",
      "0   0        Kiana Lor                     China               Suzhou   \n",
      "1   1   Joshua Lonaker  United States of America        Santa Clarita   \n",
      "2   2    Dakota Blanco  United States of America              Oakland   \n",
      "3   3  Natasha Yarusso  United States of America        Castro Valley   \n",
      "4   4   Brooke Cazares                    Brazil  São José dos Campos   \n",
      "\n",
      "   latitude  longitude gender  ethnic.group  age  english.grade  math.grade  \\\n",
      "0     31.31     120.62      F           0.0   22            3.5         3.7   \n",
      "1     34.39    -118.54      M           0.0   22            2.9         3.2   \n",
      "2     37.80    -122.27      F           0.0   22            3.9         3.8   \n",
      "3     37.69    -122.09      F           0.0   20            3.3         2.8   \n",
      "4    -23.18     -45.88      F           0.0   21            3.7         2.6   \n",
      "\n",
      "   sciences.grade  language.grade  portfolio.rating  coverletter.rating  \\\n",
      "0             3.1             1.0                 4                 4.0   \n",
      "1             3.6             5.0                 5                 4.0   \n",
      "2             3.2             5.0                 3                 3.0   \n",
      "3             3.2             5.0                 5                 2.0   \n",
      "4             3.4             1.0                 4                 4.0   \n",
      "\n",
      "   refletter.rating  adjusted_age  total_grade  \n",
      "0                 4            21         11.3  \n",
      "1                 5            21         14.7  \n",
      "2                 4            21         15.9  \n",
      "3                 4            19         14.3  \n",
      "4                 5            20         10.7  \n"
     ]
    }
   ],
   "source": [
    "df['total_grade'] = df['math.grade'] + df['sciences.grade'] + df['english.grade'] + df['language.grade']\n",
    "print(df.head())"
   ]
  },
  {
   "cell_type": "code",
   "execution_count": null,
   "metadata": {},
   "outputs": [],
   "source": []
  }
 ],
 "metadata": {
  "kernelspec": {
   "display_name": "Python 3",
   "language": "python",
   "name": "python3"
  },
  "language_info": {
   "codemirror_mode": {
    "name": "ipython",
    "version": 3
   },
   "file_extension": ".py",
   "mimetype": "text/x-python",
   "name": "python",
   "nbconvert_exporter": "python",
   "pygments_lexer": "ipython3",
   "version": "3.12.4"
  }
 },
 "nbformat": 4,
 "nbformat_minor": 2
}
