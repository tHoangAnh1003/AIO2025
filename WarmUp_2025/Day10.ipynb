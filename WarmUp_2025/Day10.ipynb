{
 "cells": [
  {
   "cell_type": "markdown",
   "metadata": {},
   "source": [
    "Bài 1: Quản lý danh sách môn học"
   ]
  },
  {
   "cell_type": "code",
   "execution_count": 1,
   "metadata": {},
   "outputs": [],
   "source": [
    "from collections import defaultdict"
   ]
  },
  {
   "cell_type": "code",
   "execution_count": 9,
   "metadata": {},
   "outputs": [],
   "source": [
    "def solve(object):\n",
    "    tin_chi = defaultdict(int)\n",
    "    diem_trung_binh = set()\n",
    "\n",
    "    object = list(object)\n",
    "\n",
    "    diem_cao_nhat = list(object[0])\n",
    "\n",
    "    size_list = len(object)\n",
    "\n",
    "    for i in range(size_list):\n",
    "        diem_trung_binh.add(object[i][2])\n",
    "        tin_chi[object[i][1]] += 1\n",
    "\n",
    "        if object[i][2] > diem_cao_nhat[2]:\n",
    "            diem_cao_nhat = (object[i])\n",
    "    \n",
    "    return tin_chi, diem_trung_binh, tuple(diem_cao_nhat)\n"
   ]
  },
  {
   "cell_type": "code",
   "execution_count": 10,
   "metadata": {},
   "outputs": [],
   "source": [
    "input1 = {(\"Ton\", 3, 8.5), (\"L\", 2, 7.0), (\"Ha\", 3, 9.0)}\n",
    "tin_chi, diem_TB, diem_cao_nhat = solve(input1)"
   ]
  },
  {
   "cell_type": "code",
   "execution_count": 12,
   "metadata": {},
   "outputs": [],
   "source": [
    "input2 = {(\"Vn\", 2, 6.5)}\n",
    "tin_chi, diem_TB, diem_cao_nhat = solve(input2)"
   ]
  },
  {
   "cell_type": "code",
   "execution_count": 14,
   "metadata": {},
   "outputs": [],
   "source": [
    "input3 = {(\"Sinh\", 3, 8.0), (\"S\", 3, 8.0), (\"Ea\", 4, 7.5)}\n",
    "tin_chi, diem_TB, diem_cao_nhat = solve(input3)"
   ]
  },
  {
   "cell_type": "code",
   "execution_count": 15,
   "metadata": {},
   "outputs": [
    {
     "name": "stdout",
     "output_type": "stream",
     "text": [
      "Từ điển số tín chỉ: defaultdict(<class 'int'>, {3: 2, 4: 1})\n",
      "Tập hợp điểm TB: {8.0, 7.5}\n",
      "Môn học cao nhất: ('S', 3, 8.0)\n"
     ]
    }
   ],
   "source": [
    "print(f\"Từ điển số tín chỉ: {tin_chi}\")\n",
    "print(f\"Tập hợp điểm TB: {diem_TB}\")\n",
    "print(f\"Môn học cao nhất: {diem_cao_nhat}\")"
   ]
  },
  {
   "cell_type": "markdown",
   "metadata": {},
   "source": [
    "Bài 2: Phân loại số theo tần xuất"
   ]
  },
  {
   "cell_type": "code",
   "execution_count": 16,
   "metadata": {},
   "outputs": [],
   "source": [
    "from collections import Counter"
   ]
  },
  {
   "cell_type": "code",
   "execution_count": 21,
   "metadata": {},
   "outputs": [],
   "source": [
    "def phan_loai(numbers):\n",
    "    tan_xuat = dict(Counter(numbers))\n",
    "    xuat_hien_mot_lan = set()\n",
    "    danh_sach = []\n",
    "\n",
    "    numbers = list(numbers)\n",
    "\n",
    "    for keys, values in tan_xuat.items():\n",
    "        if values == 1:\n",
    "            xuat_hien_mot_lan.add(keys)\n",
    "        \n",
    "        danh_sach.append((keys, values))\n",
    "\n",
    "    danh_sach.sort(key = lambda x : (-x[1], x[0]))\n",
    "\n",
    "    return tan_xuat, xuat_hien_mot_lan, danh_sach\n"
   ]
  },
  {
   "cell_type": "code",
   "execution_count": 22,
   "metadata": {},
   "outputs": [],
   "source": [
    "numbers1 = [1, 2, 2, 3, 1, 4]\n",
    "tan_xuat, xuat_hien_mot_lan, danh_sach = phan_loai(numbers1)"
   ]
  },
  {
   "cell_type": "code",
   "execution_count": 24,
   "metadata": {},
   "outputs": [],
   "source": [
    "numbers2 = [5, 5, 5]\n",
    "tan_xuat, xuat_hien_mot_lan, danh_sach = phan_loai(numbers2)"
   ]
  },
  {
   "cell_type": "code",
   "execution_count": 26,
   "metadata": {},
   "outputs": [],
   "source": [
    "numbers3 = [1, 2, 3]\n",
    "tan_xuat, xuat_hien_mot_lan, danh_sach = phan_loai(numbers3)"
   ]
  },
  {
   "cell_type": "code",
   "execution_count": 27,
   "metadata": {},
   "outputs": [
    {
     "name": "stdout",
     "output_type": "stream",
     "text": [
      "Từ điển tần xuất: {1: 1, 2: 1, 3: 1}\n",
      "Tập hợp số xuất hiện một lần: {1, 2, 3}\n",
      "Danh sách sắp xếp: [(1, 1), (2, 1), (3, 1)]\n"
     ]
    }
   ],
   "source": [
    "print(f\"Từ điển tần xuất: {tan_xuat}\")\n",
    "print(f\"Tập hợp số xuất hiện một lần: {xuat_hien_mot_lan}\")\n",
    "print(f\"Danh sách sắp xếp: {danh_sach}\")"
   ]
  },
  {
   "cell_type": "markdown",
   "metadata": {},
   "source": [
    "Bài 3: Tìm giá trị gần nhất"
   ]
  },
  {
   "cell_type": "code",
   "execution_count": 38,
   "metadata": {},
   "outputs": [],
   "source": [
    "def find_pairs(pairs):\n",
    "    dict_value = {}\n",
    "    set_values = set()\n",
    "\n",
    "    pairs = list(pairs)\n",
    "\n",
    "    for i in range(len(pairs)):\n",
    "        set_values.add(pairs[i][0])\n",
    "        for j in range(i + 1, len(pairs)):\n",
    "            diff_value = abs(pairs[i][0] - pairs[j][0])\n",
    "            dict_value[(i, j)] = diff_value\n",
    "    \n",
    "    index_pair = min(dict_value, key=dict_value.get) \n",
    "    \n",
    "    return index_pair, dict_value, set_values"
   ]
  },
  {
   "cell_type": "code",
   "execution_count": 39,
   "metadata": {},
   "outputs": [],
   "source": [
    "pair1 = [(10, 0), (15, 1), (13, 2), (12, 3)]\n",
    "index_pair, dict_value, set_values = find_pairs(pair1)"
   ]
  },
  {
   "cell_type": "code",
   "execution_count": 41,
   "metadata": {},
   "outputs": [],
   "source": [
    "pair2 = [(5, 0), (7, 1)]\n",
    "index_pair, dict_value, set_values = find_pairs(pair2)"
   ]
  },
  {
   "cell_type": "code",
   "execution_count": 43,
   "metadata": {},
   "outputs": [],
   "source": [
    "pair3 = [(1, 0), (4, 1), (2, 2)]\n",
    "index_pair, dict_value, set_values = find_pairs(pair3)"
   ]
  },
  {
   "cell_type": "code",
   "execution_count": 44,
   "metadata": {},
   "outputs": [
    {
     "name": "stdout",
     "output_type": "stream",
     "text": [
      "Cặp chỉ số gần nhất: (0, 2)\n",
      "Từ điển chênh lệch: {(0, 1): 3, (0, 2): 1, (1, 2): 2}\n",
      "Tập hợp giá trị: {1, 2, 4}\n"
     ]
    }
   ],
   "source": [
    "print(f\"Cặp chỉ số gần nhất: {index_pair}\")\n",
    "print(f\"Từ điển chênh lệch: {dict_value}\")\n",
    "print(f\"Tập hợp giá trị: {set_values}\")"
   ]
  }
 ],
 "metadata": {
  "kernelspec": {
   "display_name": "Python 3",
   "language": "python",
   "name": "python3"
  },
  "language_info": {
   "codemirror_mode": {
    "name": "ipython",
    "version": 3
   },
   "file_extension": ".py",
   "mimetype": "text/x-python",
   "name": "python",
   "nbconvert_exporter": "python",
   "pygments_lexer": "ipython3",
   "version": "3.12.4"
  }
 },
 "nbformat": 4,
 "nbformat_minor": 2
}
