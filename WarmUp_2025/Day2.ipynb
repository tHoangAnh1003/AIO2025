{
 "cells": [
  {
   "cell_type": "code",
   "execution_count": 1,
   "metadata": {},
   "outputs": [],
   "source": [
    "student_name = \"An\"\n",
    "math_score = 8.5\n",
    "science_score = 7.0"
   ]
  },
  {
   "cell_type": "code",
   "execution_count": 5,
   "metadata": {},
   "outputs": [],
   "source": [
    "output_1 = \"Tên \" + student_name + \", Điểm Toán: \" + str(math_score) + \", Điểm Khoa học: \" + str(science_score)\n",
    "output_2 = f\"Tên {student_name}, Điểm Toán: {math_score}, Điểm Khoa học: {science_score}\"\n",
    "\n",
    "output_3 = \"Tên: \" + student_name + \" - Toán: \" + str(math_score) + \" - Khoa học: \" + str(science_score)\n",
    "output_4 = f\"Tên: {student_name} - Toán: {math_score} - Khoa học: {science_score}\""
   ]
  },
  {
   "cell_type": "code",
   "execution_count": 6,
   "metadata": {},
   "outputs": [
    {
     "name": "stdout",
     "output_type": "stream",
     "text": [
      "Tên An, Điểm Toán: 8.5, Điểm Khoa học: 7.0\n",
      "Tên An, Điểm Toán: 8.5, Điểm Khoa học: 7.0\n",
      "Tên: An - Toán: 8.5 - Khoa học: 7.0\n",
      "Tên: An - Toán: 8.5 - Khoa học: 7.0\n"
     ]
    }
   ],
   "source": [
    "print(output_1)\n",
    "print(output_2)\n",
    "print(output_3)\n",
    "print(output_4)"
   ]
  },
  {
   "cell_type": "code",
   "execution_count": 7,
   "metadata": {},
   "outputs": [],
   "source": [
    "sum_score = math_score + science_score\n",
    "subtract_score = math_score - science_score\n",
    "multy_score = math_score * science_score\n",
    "divide_score = math_score / science_score"
   ]
  },
  {
   "cell_type": "code",
   "execution_count": 8,
   "metadata": {},
   "outputs": [
    {
     "name": "stdout",
     "output_type": "stream",
     "text": [
      "Tổng điểm: 15.5\n",
      "Hiệu điểm: 1.5\n",
      "Tích điểm: 59.5\n",
      "Thương điểm: 1.2142857142857142\n"
     ]
    }
   ],
   "source": [
    "print(f\"Tổng điểm: {sum_score}\")\n",
    "print(f\"Hiệu điểm: {subtract_score}\")\n",
    "print(f\"Tích điểm: {multy_score}\")\n",
    "print(f\"Thương điểm: {divide_score}\")"
   ]
  },
  {
   "cell_type": "code",
   "execution_count": 9,
   "metadata": {},
   "outputs": [],
   "source": [
    "math_score = math_score + 1\n",
    "average_score = (math_score + science_score) / 2"
   ]
  },
  {
   "cell_type": "code",
   "execution_count": 11,
   "metadata": {},
   "outputs": [],
   "source": [
    "result = \"\""
   ]
  },
  {
   "cell_type": "code",
   "execution_count": 12,
   "metadata": {},
   "outputs": [],
   "source": [
    "if average_score >= 8.0:\n",
    "    result = \"Xuất sắc\"\n",
    "elif average_score >= 6.5:\n",
    "    result = \"Khá\"\n",
    "elif average_score >= 5.0:\n",
    "    result = \"Trung bình\"\n",
    "else:\n",
    "    result = \"Cần cố gắng\"\n"
   ]
  },
  {
   "cell_type": "code",
   "execution_count": 13,
   "metadata": {},
   "outputs": [
    {
     "name": "stdout",
     "output_type": "stream",
     "text": [
      "Xuất sắc\n"
     ]
    }
   ],
   "source": [
    "print(result)"
   ]
  }
 ],
 "metadata": {
  "kernelspec": {
   "display_name": "Python 3",
   "language": "python",
   "name": "python3"
  },
  "language_info": {
   "codemirror_mode": {
    "name": "ipython",
    "version": 3
   },
   "file_extension": ".py",
   "mimetype": "text/x-python",
   "name": "python",
   "nbconvert_exporter": "python",
   "pygments_lexer": "ipython3",
   "version": "3.12.4"
  }
 },
 "nbformat": 4,
 "nbformat_minor": 2
}
