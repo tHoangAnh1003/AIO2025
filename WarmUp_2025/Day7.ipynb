{
 "cells": [
  {
   "cell_type": "markdown",
   "metadata": {},
   "source": [
    "Bài 1:"
   ]
  },
  {
   "cell_type": "code",
   "execution_count": 1,
   "metadata": {},
   "outputs": [
    {
     "name": "stdout",
     "output_type": "stream",
     "text": [
      "List: [5, 2, 8, 1]\n"
     ]
    }
   ],
   "source": [
    "n = int(input(\"Nhập số lượng phần tử: \"))\n",
    "\n",
    "lst = []\n",
    "\n",
    "for i in range(n):\n",
    "    value = int(input(f\"Nhập số thứ {i + 1}: \"))\n",
    "    lst.append(value)\n",
    "\n",
    "print(f\"List: {lst}\")\n"
   ]
  },
  {
   "cell_type": "markdown",
   "metadata": {},
   "source": [
    "Bài 2:"
   ]
  },
  {
   "cell_type": "code",
   "execution_count": 2,
   "metadata": {},
   "outputs": [
    {
     "name": "stdout",
     "output_type": "stream",
     "text": [
      "List: [5, 2, 8, 1]\n",
      "Tổng: 16\n",
      "Giá trị lớn nhât: 8\n",
      "Giá trị nhỏ nhất: 1\n"
     ]
    }
   ],
   "source": [
    "print(f\"List: {lst}\")\n",
    "\n",
    "sum_lst = sum(lst)\n",
    "min_value = min(lst)\n",
    "max_value = max(lst)\n",
    "\n",
    "print(f\"Tổng: {sum_lst}\")\n",
    "print(f\"Giá trị lớn nhât: {max_value}\")\n",
    "print(f\"Giá trị nhỏ nhất: {min_value}\")"
   ]
  },
  {
   "cell_type": "markdown",
   "metadata": {},
   "source": [
    "Bài 3:"
   ]
  },
  {
   "cell_type": "code",
   "execution_count": 3,
   "metadata": {},
   "outputs": [
    {
     "name": "stdout",
     "output_type": "stream",
     "text": [
      "List sau khi thêm: [10, 20, 30, 40, 50]\n",
      "List sau khi chèn: [10, 20, 25, 30, 40, 50]\n",
      "List sau khi xóa: [10, 25, 30, 40, 50]\n"
     ]
    }
   ],
   "source": [
    "numbers = [10, 20, 30, 40]\n",
    "\n",
    "value = int(input(\"Nhập phần tử thêm vào cuối: \"))\n",
    "numbers.append(value)\n",
    "print(f\"List sau khi thêm: {numbers}\")\n",
    "\n",
    "index = int(input(\"Nhập vị trí để chèn: \"))\n",
    "value = int(input(\"Nhập phần tử để chèn: \"))\n",
    "numbers.insert(index, value)\n",
    "print(f\"List sau khi chèn: {numbers}\")\n",
    "\n",
    "value = int(input(\"Nhập giá trị để xóa: \"))\n",
    "numbers.remove(value)\n",
    "print(f\"List sau khi xóa: {numbers}\")"
   ]
  },
  {
   "cell_type": "markdown",
   "metadata": {},
   "source": [
    "Bài 4: "
   ]
  },
  {
   "cell_type": "code",
   "execution_count": 4,
   "metadata": {},
   "outputs": [
    {
     "name": "stdout",
     "output_type": "stream",
     "text": [
      "Duyệt bằng for: \n",
      "Phần tử tại chỉ số 0 là 10\n",
      "Phần tử tại chỉ số 1 là 25\n",
      "Phần tử tại chỉ số 2 là 30\n",
      "Phần tử tại chỉ số 3 là 40\n",
      "Phần tử tại chỉ số 4 là 50\n",
      "Duyệt bằng while: \n",
      "Phần tử tại chỉ số 0 là 10\n",
      "Phần tử tại chỉ số 1 là 25\n",
      "Phần tử tại chỉ số 2 là 30\n",
      "Phần tử tại chỉ số 3 là 40\n",
      "Phần tử tại chỉ số 4 là 50\n"
     ]
    }
   ],
   "source": [
    "print(\"Duyệt bằng for: \")\n",
    "for i in range(len(numbers)):\n",
    "    print(f\"Phần tử tại chỉ số {i} là {numbers[i]}\")\n",
    "\n",
    "print(\"Duyệt bằng while: \")\n",
    "len_list = len(numbers)\n",
    "index = 0\n",
    "while index < len_list:\n",
    "    print(f\"Phần tử tại chỉ số {index} là {numbers[index]}\")\n",
    "    index += 1"
   ]
  },
  {
   "cell_type": "markdown",
   "metadata": {},
   "source": [
    "Bài 5: "
   ]
  },
  {
   "cell_type": "code",
   "execution_count": 6,
   "metadata": {},
   "outputs": [
    {
     "name": "stdout",
     "output_type": "stream",
     "text": [
      "Không tìm thấy 15 trong List\n"
     ]
    }
   ],
   "source": [
    "value = int(input(\"Nhập số cần tìm: \"))\n",
    "\n",
    "if value in numbers:\n",
    "    index = numbers.index(value)\n",
    "    print(f\"{value} có trong List, vị trí: {index}\")\n",
    "else:\n",
    "    print(F\"Không tìm thấy {value} trong List\")"
   ]
  }
 ],
 "metadata": {
  "kernelspec": {
   "display_name": "Python 3",
   "language": "python",
   "name": "python3"
  },
  "language_info": {
   "codemirror_mode": {
    "name": "ipython",
    "version": 3
   },
   "file_extension": ".py",
   "mimetype": "text/x-python",
   "name": "python",
   "nbconvert_exporter": "python",
   "pygments_lexer": "ipython3",
   "version": "3.12.4"
  }
 },
 "nbformat": 4,
 "nbformat_minor": 2
}
