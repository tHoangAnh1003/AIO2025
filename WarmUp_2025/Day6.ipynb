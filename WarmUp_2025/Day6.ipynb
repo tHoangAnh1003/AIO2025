{
 "cells": [
  {
   "cell_type": "markdown",
   "metadata": {},
   "source": [
    "Bài 1: Tổng các chữ số"
   ]
  },
  {
   "cell_type": "code",
   "execution_count": 1,
   "metadata": {},
   "outputs": [],
   "source": [
    "def sum_digit(N):\n",
    "    result = 0\n",
    "\n",
    "    while N != 0:\n",
    "        result += (N % 10)\n",
    "        N //= 10\n",
    "\n",
    "    return result"
   ]
  },
  {
   "cell_type": "code",
   "execution_count": 2,
   "metadata": {},
   "outputs": [
    {
     "name": "stdout",
     "output_type": "stream",
     "text": [
      "15\n"
     ]
    }
   ],
   "source": [
    "N = int(input(\"Nhập N: \"))\n",
    "result = sum_digit(N)\n",
    "print(result)"
   ]
  },
  {
   "cell_type": "markdown",
   "metadata": {},
   "source": [
    "Bài 2: Newton"
   ]
  },
  {
   "cell_type": "code",
   "execution_count": 9,
   "metadata": {},
   "outputs": [],
   "source": [
    "def f(X):\n",
    "    return X ** 3 - 3 * X + 1\n",
    "\n",
    "def f_derivative(X):\n",
    "    return 3 * X ** 2 - 3\n",
    "\n",
    "def newton():\n",
    "    x0 = 5\n",
    "    epsilon = 0.0001\n",
    "    max_loop = 100\n",
    "    loop = 0\n",
    "    while True:\n",
    "        x1 = x0 - f(x0) / f_derivative(x0)\n",
    "\n",
    "        if abs(x1 - x0) < epsilon or loop > max_loop:\n",
    "            break\n",
    "\n",
    "        x0 = x1\n",
    "        loop += 1\n",
    "\n",
    "    return x1, loop"
   ]
  },
  {
   "cell_type": "code",
   "execution_count": 10,
   "metadata": {},
   "outputs": [
    {
     "name": "stdout",
     "output_type": "stream",
     "text": [
      "Nghiệm gần đúng: 1.532089\n",
      "Số lần lặp: 6\n"
     ]
    }
   ],
   "source": [
    "x1, loop = newton()\n",
    "print(f\"Nghiệm gần đúng: {x1:.6f}\")\n",
    "print(f\"Số lần lặp: {loop}\")"
   ]
  }
 ],
 "metadata": {
  "kernelspec": {
   "display_name": "Python 3",
   "language": "python",
   "name": "python3"
  },
  "language_info": {
   "codemirror_mode": {
    "name": "ipython",
    "version": 3
   },
   "file_extension": ".py",
   "mimetype": "text/x-python",
   "name": "python",
   "nbconvert_exporter": "python",
   "pygments_lexer": "ipython3",
   "version": "3.12.4"
  }
 },
 "nbformat": 4,
 "nbformat_minor": 2
}
