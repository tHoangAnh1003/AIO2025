{
 "cells": [
  {
   "cell_type": "markdown",
   "metadata": {},
   "source": [
    "Bài 1:"
   ]
  },
  {
   "cell_type": "code",
   "execution_count": 2,
   "metadata": {},
   "outputs": [
    {
     "name": "stdout",
     "output_type": "stream",
     "text": [
      "Danh sách số lẻ: [1, 3, 5, 7, 9]\n"
     ]
    }
   ],
   "source": [
    "n = int(input(\"Nhập n: \"))\n",
    "\n",
    "odd_lst = [x for x in range(n) if x % 2 != 0]\n",
    "\n",
    "print(f\"Danh sách số lẻ: {odd_lst}\")"
   ]
  },
  {
   "cell_type": "markdown",
   "metadata": {},
   "source": [
    "Bài 2:"
   ]
  },
  {
   "cell_type": "code",
   "execution_count": 3,
   "metadata": {},
   "outputs": [
    {
     "name": "stdout",
     "output_type": "stream",
     "text": [
      "Original ban đầu: [1, 2, [3, 4]]\n",
      "Shallow copy sau khi sửa: [1, 2, [10, 4]]\n",
      "Deep copy sau khi sửa: [1, 2, [3, 4]]\n",
      "Original sau khi sửa: [1, 2, [10, 4]]\n"
     ]
    }
   ],
   "source": [
    "import copy\n",
    "\n",
    "original = [1, 2, [3, 4]]\n",
    "\n",
    "ori_copy = original.copy()\n",
    "ori_deepcopy = copy.deepcopy(original)\n",
    "\n",
    "print(f\"Original ban đầu: {original}\")\n",
    "\n",
    "original[2][0] = 10\n",
    "\n",
    "print(f\"Shallow copy sau khi sửa: {ori_copy}\")\n",
    "print(f\"Deep copy sau khi sửa: {ori_deepcopy}\")\n",
    "print(f\"Original sau khi sửa: {original}\")"
   ]
  },
  {
   "cell_type": "markdown",
   "metadata": {},
   "source": [
    "Bài 4: "
   ]
  },
  {
   "cell_type": "code",
   "execution_count": 9,
   "metadata": {},
   "outputs": [
    {
     "name": "stdout",
     "output_type": "stream",
     "text": [
      "Dictionary sau khi thêm: 'An': 8.5, 'Bình': 7.0, 'Cường ': 9.0\n",
      "Danh sách học sinh: dict_keys(['An', 'Bình', 'Cường '])\n",
      "Điểm trung bình: 8.17\n"
     ]
    }
   ],
   "source": [
    "my_dict = {\"An\": 8.5,\n",
    "           \"Bình\": 7.0}\n",
    "\n",
    "name = input(\"Nhập tên học sinh: \")\n",
    "score = float(input(\"Nhập điểm: \"))\n",
    "\n",
    "my_dict[name] = score\n",
    "\n",
    "print(f\"Dictionary sau khi thêm: {\", \".join(f\"'{k}': {v}\" for k, v in my_dict.items(  ))}\")\n",
    "print(f\"Danh sách học sinh: {my_dict.keys()}\")\n",
    "print(f\"Điểm trung bình: {sum(my_dict.values()) / len(my_dict):.2f}\")\n"
   ]
  }
 ],
 "metadata": {
  "kernelspec": {
   "display_name": "Python 3",
   "language": "python",
   "name": "python3"
  },
  "language_info": {
   "codemirror_mode": {
    "name": "ipython",
    "version": 3
   },
   "file_extension": ".py",
   "mimetype": "text/x-python",
   "name": "python",
   "nbconvert_exporter": "python",
   "pygments_lexer": "ipython3",
   "version": "3.12.4"
  }
 },
 "nbformat": 4,
 "nbformat_minor": 2
}
